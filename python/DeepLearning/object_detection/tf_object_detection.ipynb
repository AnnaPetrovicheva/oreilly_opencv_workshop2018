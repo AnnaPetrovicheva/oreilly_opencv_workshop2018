{
 "cells": [
  {
   "cell_type": "code",
   "execution_count": null,
   "metadata": {},
   "outputs": [],
   "source": [
    "import os\n",
    "import cv2\n",
    "import matplotlib.pyplot as plt\n",
    "%matplotlib inline"
   ]
  },
  {
   "cell_type": "markdown",
   "metadata": {},
   "source": [
    "## Download Model files from Tensorflow model ZOO\n",
    "Model files can be downloaded from the Tensorflow Object Detection Model Zoo\n",
    "https://github.com/tensorflow/models/blob/master/research/object_detection/g3doc/detection_model_zoo.md\n",
    "\n",
    "**A sample mobilenet model has been included**\n",
    "\n",
    "## Create config file from frozen graph\n",
    "Once you download the model, extract the files and run the tf_text_graph_ssd.py file \n",
    "with input as the path to the frozen_graph.pb file and output as desired.\n",
    "The python file is available at https://github.com/opencv/opencv/blob/master/samples/dnn/tf_text_graph_ssd.py\n",
    "\n",
    "**A sample config file has been included**"
   ]
  },
  {
   "cell_type": "code",
   "execution_count": null,
   "metadata": {},
   "outputs": [],
   "source": [
    "modelFile = \"models/ssd_mobilenet_v2_coco_2018_03_29/frozen_inference_graph.pb\"\n",
    "configFile = \"models/ssd_mobilenet_v2_coco_2018_03_29.pbtxt\"\n",
    "image_dir = \"images\"\n",
    "threshold = 0.5\n",
    "classFile = \"coco_class_labels.txt\""
   ]
  },
  {
   "cell_type": "code",
   "execution_count": null,
   "metadata": {},
   "outputs": [],
   "source": [
    "with open(classFile) as fi:\n",
    "    labels = fi.readline().strip().split()\n",
    "print(labels)"
   ]
  },
  {
   "cell_type": "code",
   "execution_count": null,
   "metadata": {
    "scrolled": false
   },
   "outputs": [],
   "source": [
    "# Read the Tensorflow network\n",
    "net = cv2.dnn.readNetFromTensorflow(modelFile, configFile)\n",
    "\n",
    "# For ach file in the directory\n",
    "for filename in os.listdir(image_dir):\n",
    "    frame = cv2.imread(os.path.join(image_dir, filename))\n",
    "\n",
    "    # Resize the image to the dimension required for SSD\n",
    "    frame = cv2.resize(frame, (300, 300))\n",
    "    rows = frame.shape[0]\n",
    "    cols = frame.shape[1]\n",
    "\n",
    "    # Create a blob from the image and pass it to the network\n",
    "    net.setInput(cv2.dnn.blobFromImage(frame, 1.0/127.5, (300, 300), (127.5, 127.5, 127.5), True))\n",
    "    \n",
    "    # Peform Prediction\n",
    "    out = net.forward()\n",
    "    \n",
    "    # For every Detected Object\n",
    "    for i in range(out.shape[2]):\n",
    "        # Find the class and confidence \n",
    "        classId = int(out[0, 0, i, 1])\n",
    "        score = float(out[0, 0, i, 2])\n",
    "        \n",
    "        # The locations given are normalized. They should be multiplied by the height and width of the input\n",
    "        x = int(out[0, 0, i, 3] * cols)\n",
    "        y = int(out[0, 0, i, 4] * rows)\n",
    "        w = int(out[0, 0, i, 5] * cols - x)\n",
    "        h = int(out[0, 0, i, 6] * rows - y)\n",
    "        \n",
    "        # Check if the detection is of good quality\n",
    "        if score > threshold:\n",
    "            cv2.putText(frame, \"{}\".format(labels[classId]), ( x, y ), cv2.FONT_HERSHEY_SIMPLEX, 0.7, (0, 255, 0), 1, cv2.LINE_AA)\n",
    "            cv2.rectangle(frame, (x, y), (x + w, y + h), (0, 255, 255), cv2.FONT_HERSHEY_DUPLEX)\n",
    "    \n",
    "    # Convert Image to RGB since we are using Matplotlib for displaying image\n",
    "    mp_img = cv2.cvtColor(frame, cv2.COLOR_BGR2RGB)\n",
    "    plt.imshow(mp_img)\n",
    "    plt.show()"
   ]
  },
  {
   "cell_type": "code",
   "execution_count": null,
   "metadata": {},
   "outputs": [],
   "source": []
  }
 ],
 "metadata": {
  "kernelspec": {
   "display_name": "Python 3",
   "language": "python",
   "name": "python3"
  },
  "language_info": {
   "codemirror_mode": {
    "name": "ipython",
    "version": 3
   },
   "file_extension": ".py",
   "mimetype": "text/x-python",
   "name": "python",
   "nbconvert_exporter": "python",
   "pygments_lexer": "ipython3",
   "version": "3.5.2"
  }
 },
 "nbformat": 4,
 "nbformat_minor": 2
}
